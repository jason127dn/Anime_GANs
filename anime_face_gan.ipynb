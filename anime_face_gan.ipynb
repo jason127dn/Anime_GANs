{
  "nbformat": 4,
  "nbformat_minor": 0,
  "metadata": {
    "colab": {
      "name": "anime_face_gan.ipynb",
      "version": "0.3.2",
      "provenance": [],
      "collapsed_sections": []
    },
    "kernelspec": {
      "name": "python3",
      "display_name": "Python 3"
    },
    "accelerator": "GPU"
  },
  "cells": [
    {
      "metadata": {
        "id": "WlIf376_bZ8z",
        "colab_type": "code",
        "colab": {}
      },
      "cell_type": "code",
      "source": [
        "from google.colab import drive\n",
        "\n",
        "\n",
        "from zipfile import ZipFile\n",
        "from tarfile import TarFile \n",
        "\n",
        "\n",
        "import pandas as pd\n",
        "import numpy as np\n",
        "from numpy.random import shuffle\n",
        "\n",
        "\n",
        "import cv2\n",
        "import imageio\n",
        "from matplotlib import pyplot as plt\n",
        "from matplotlib.colors import hsv_to_rgb, rgb_to_hsv\n",
        "\n",
        "\n",
        "import tensorflow as tf\n",
        "from tensorflow.keras.layers import Conv2DTranspose, Concatenate, Flatten, Add, LeakyReLU, PReLU\n",
        "from tensorflow.keras.layers import Input, Dense, Conv2D, Reshape, BatchNormalization, ReLU, Lambda\n",
        "from tensorflow.keras.layers import AveragePooling2D\n",
        "from tensorflow.keras.models import Model\n",
        "\n",
        "\n",
        "from IPython import display\n",
        "import sys\n",
        "import time\n",
        "import os"
      ],
      "execution_count": 0,
      "outputs": []
    },
    {
      "metadata": {
        "id": "W6ueq0lgbHLS",
        "colab_type": "code",
        "colab": {
          "base_uri": "https://localhost:8080/",
          "height": 55
        },
        "outputId": "505c35a7-f042-416c-bb61-b6e76c9fed5a"
      },
      "cell_type": "code",
      "source": [
        "drive.mount('/content/gdrive/')\n"
      ],
      "execution_count": 2,
      "outputs": [
        {
          "output_type": "stream",
          "text": [
            "Drive already mounted at /content/gdrive; to attempt to forcibly remount, call drive.mount(\"/content/gdrive\", force_remount=True).\n"
          ],
          "name": "stdout"
        }
      ]
    },
    {
      "metadata": {
        "id": "25RS_W7gbwKF",
        "colab_type": "code",
        "colab": {}
      },
      "cell_type": "code",
      "source": [
        "file_path='/content/gdrive/'"
      ],
      "execution_count": 0,
      "outputs": []
    },
    {
      "metadata": {
        "id": "2RnDaRiDcyiN",
        "colab_type": "code",
        "colab": {}
      },
      "cell_type": "code",
      "source": [
        "def mkdir(s):\n",
        "    try:\n",
        "        os.mkdir(file_path+s)\n",
        "    except:\n",
        "        return\n",
        "    \n",
        "    \n",
        "mkdir('data/')\n",
        "mkdir('photos/')\n",
        "mkdir('models')\n",
        "mkdir('logs/')      "
      ],
      "execution_count": 0,
      "outputs": []
    },
    {
      "metadata": {
        "id": "jTmTgoIdtDh_",
        "colab_type": "text"
      },
      "cell_type": "markdown",
      "source": [
        "Data set\n",
        "---"
      ]
    },
    {
      "metadata": {
        "id": "KYtD-xIRMbsx",
        "colab_type": "code",
        "colab": {}
      },
      "cell_type": "code",
      "source": [
        "import requests\n",
        "\n",
        "def download_file_from_google_drive(id, destination):\n",
        "    URL = \"https://docs.google.com/uc?export=download\"\n",
        "\n",
        "    session = requests.Session()\n",
        "\n",
        "    response = session.get(URL, params = { 'id' : id }, stream = True)\n",
        "    token = get_confirm_token(response)\n",
        "\n",
        "    if token:\n",
        "        params = { 'id' : id, 'confirm' : token }\n",
        "        response = session.get(URL, params = params, stream = True)\n",
        "\n",
        "    save_response_content(response, destination)    \n",
        "\n",
        "def get_confirm_token(response):\n",
        "    for key, value in response.cookies.items():\n",
        "        if key.startswith('download_warning'):\n",
        "            return value\n",
        "\n",
        "    return None\n",
        "\n",
        "def save_response_content(response, destination):\n",
        "    CHUNK_SIZE = 32768\n",
        "\n",
        "    with open(destination, \"wb\") as f:\n",
        "        for chunk in response.iter_content(CHUNK_SIZE):\n",
        "            if chunk: # filter out keep-alive new chunks\n",
        "                f.write(chunk)\n"
      ],
      "execution_count": 0,
      "outputs": []
    },
    {
      "metadata": {
        "id": "NyJQ8ELVMhvx",
        "colab_type": "code",
        "colab": {}
      },
      "cell_type": "code",
      "source": [
        "''' \n",
        "#down load image\n",
        "download_file_from_google_drive('1tpW7ZVNosXsIAWu8-f5EpwtF3ls3pb79',file_path+'data/data.zip')\n",
        "'''"
      ],
      "execution_count": 0,
      "outputs": []
    },
    {
      "metadata": {
        "id": "EXBiniBr0qB7",
        "colab_type": "code",
        "colab": {}
      },
      "cell_type": "code",
      "source": [
        "datafile=ZipFile(file_path+'data/data.zip','r')\n",
        "file_list=datafile.infolist()\n",
        "file_list=list(filter(lambda x:'.jpg' in x.filename,file_list))\n",
        "imgs=[datafile.read(img) for img in file_list]\n",
        "imgs=[cv2.imdecode(np.frombuffer(img,np.uint8),3) for img in imgs]\n",
        "imgs=np.array(imgs)\n",
        "imgs=imgs[:,:,:,::-1]"
      ],
      "execution_count": 0,
      "outputs": []
    },
    {
      "metadata": {
        "id": "BDM7A-xRexTU",
        "colab_type": "code",
        "colab": {
          "base_uri": "https://localhost:8080/",
          "height": 35
        },
        "outputId": "a5a6d9e5-4200-4e8e-ab3c-b75b1aba4a21"
      },
      "cell_type": "code",
      "source": [
        "imgs.shape"
      ],
      "execution_count": 8,
      "outputs": [
        {
          "output_type": "execute_result",
          "data": {
            "text/plain": [
              "(36740, 64, 64, 3)"
            ]
          },
          "metadata": {
            "tags": []
          },
          "execution_count": 8
        }
      ]
    },
    {
      "metadata": {
        "id": "V9T-tvoqe-Xk",
        "colab_type": "code",
        "colab": {
          "base_uri": "https://localhost:8080/",
          "height": 367
        },
        "outputId": "3a2fe3b5-37c3-42e6-d841-ba0ffc26d3b1"
      },
      "cell_type": "code",
      "source": [
        "plt.imshow(imgs[10])"
      ],
      "execution_count": 9,
      "outputs": [
        {
          "output_type": "execute_result",
          "data": {
            "text/plain": [
              "<matplotlib.image.AxesImage at 0x7fc8a854aac8>"
            ]
          },
          "metadata": {
            "tags": []
          },
          "execution_count": 9
        },
        {
          "output_type": "display_data",
          "data": {
            "image/png": "[encoded data removed]",
            "text/plain": [
              "<Figure size 576x396 with 1 Axes>"
            ]
          },
          "metadata": {
            "tags": []
          }
        }
      ]
    },
    {
      "metadata": {
        "id": "8dMCO1hvemej",
        "colab_type": "code",
        "colab": {}
      },
      "cell_type": "code",
      "source": [
        "# image batch generator\n",
        "\n",
        "def chunker(seq, size):\n",
        "    return (seq[pos:pos + size] for pos in range(0, len(seq), size))\n",
        "\n",
        "def get_image_batch(size):\n",
        "    while True:\n",
        "        shuffle(imgs)  \n",
        "        for batch in chunker(imgs,size):\n",
        "            if len(batch) == size:\n",
        "                X=np.array(batch)/255.\n",
        "\n",
        "                yield X"
      ],
      "execution_count": 0,
      "outputs": []
    },
    {
      "metadata": {
        "id": "l6haVAH1s1sq",
        "colab_type": "text"
      },
      "cell_type": "markdown",
      "source": [
        "Tensorboard\n",
        "---"
      ]
    },
    {
      "metadata": {
        "id": "d0HceK48nxvH",
        "colab_type": "code",
        "outputId": "07ba7dad-0aaa-4424-d5ce-e98caa438dfa",
        "colab": {
          "base_uri": "https://localhost:8080/",
          "height": 243
        }
      },
      "cell_type": "code",
      "source": [
        "#tensorboard\n",
        "\n",
        "!wget https://bin.equinox.io/c/4VmDzA7iaHb/ngrok-stable-linux-amd64.zip\n",
        "!unzip ngrok-stable-linux-amd64.zip"
      ],
      "execution_count": 6,
      "outputs": [
        {
          "output_type": "stream",
          "text": [
            "--2019-03-26 12:17:12--  https://bin.equinox.io/c/4VmDzA7iaHb/ngrok-stable-linux-amd64.zip\n",
            "Resolving bin.equinox.io (bin.equinox.io)... 52.45.248.161, 34.199.255.1, 52.7.169.168, ...\n",
            "Connecting to bin.equinox.io (bin.equinox.io)|52.45.248.161|:443... connected.\n",
            "HTTP request sent, awaiting response... 200 OK\n",
            "Length: 13584026 (13M) [application/octet-stream]\n",
            "Saving to: ‘ngrok-stable-linux-amd64.zip.1’\n",
            "\n",
            "\r          ngrok-sta   0%[                    ]       0  --.-KB/s               \r         ngrok-stab  13%[=>                  ]   1.74M  8.69MB/s               \rngrok-stable-linux- 100%[===================>]  12.95M  37.6MB/s    in 0.3s    \n",
            "\n",
            "2019-03-26 12:17:12 (37.6 MB/s) - ‘ngrok-stable-linux-amd64.zip.1’ saved [13584026/13584026]\n",
            "\n",
            "Archive:  ngrok-stable-linux-amd64.zip\n",
            "replace ngrok? [y]es, [n]o, [A]ll, [N]one, [r]ename: N\n"
          ],
          "name": "stdout"
        }
      ]
    },
    {
      "metadata": {
        "id": "V5gciT5OoEP3",
        "colab_type": "code",
        "colab": {}
      },
      "cell_type": "code",
      "source": [
        "LOG_DIR = './logs/'\n",
        "get_ipython().system_raw(\n",
        "    'tensorboard --logdir {} --host 0.0.0.0 --port 6006 &'\n",
        "    .format(LOG_DIR)\n",
        ")\n",
        "get_ipython().system_raw('./ngrok http 6006 &')"
      ],
      "execution_count": 0,
      "outputs": []
    },
    {
      "metadata": {
        "id": "_FcwD4EEobjd",
        "colab_type": "code",
        "outputId": "56d394a8-281e-4005-876b-e90976a1524e",
        "colab": {
          "base_uri": "https://localhost:8080/",
          "height": 35
        }
      },
      "cell_type": "code",
      "source": [
        "! curl -s http://localhost:4040/api/tunnels | python3 -c \\\n",
        "    \"import sys, json; print(json.load(sys.stdin)['tunnels'][0]['public_url'])\""
      ],
      "execution_count": 12,
      "outputs": [
        {
          "output_type": "stream",
          "text": [
            "https://ac850da9.ngrok.io\n"
          ],
          "name": "stdout"
        }
      ]
    },
    {
      "metadata": {
        "id": "drb6uisuoewX",
        "colab_type": "text"
      },
      "cell_type": "markdown",
      "source": [
        "Keras Model\n",
        "---"
      ]
    },
    {
      "metadata": {
        "colab_type": "code",
        "id": "Wdiwcb09i8Ak",
        "colab": {}
      },
      "cell_type": "code",
      "source": [
        "# generator\n",
        "\n",
        "gate=tf.placeholder(tf.float32,[4])\n",
        "\n",
        "\n",
        "## up sampling\n",
        "def PixelShuffler(block):\n",
        "    return Lambda(lambda x: tf.nn.depth_to_space(x,block))\n",
        "\n",
        "## convert to hsv with four channel\n",
        "def hnorm(x):\n",
        "    xrsqrt=tf.rsqrt(x[:,:,:,0]**2+x[:,:,:,1]**2)\n",
        "    x0=x[:,:,:,0]*xrsqrt\n",
        "    x1=x[:,:,:,1]*xrsqrt\n",
        "    x2=tf.sigmoid(x[:,:,:,2])\n",
        "    x3=tf.sigmoid(x[:,:,:,3])\n",
        "    return tf.stack([x0,x1,x2,x3],axis=-1)\n",
        "\n",
        "## normalize layer\n",
        "def pixelnorm():\n",
        "    def _pixelnorm(x): #(nhwc)\n",
        "        xrsqrt=tf.rsqrt(tf.reduce_mean(x**2,axis=-1,keepdims=True))\n",
        "        return (x*xrsqrt)\n",
        "    return Lambda(_pixelnorm)\n",
        "        \n",
        "def featurenorm():\n",
        "    def _featurenorm(x):\n",
        "        xmean=tf.reduce_mean(x,axis=[1,2],keepdims=True)\n",
        "        xstd=tf.keras.backend.std(x,axis=[1,2],keepdims=True)\n",
        "        x=(x-xmean)/xstd\n",
        "        return x\n",
        "    return Lambda(_featurenorm)\n",
        "\n",
        "\n",
        "## Add style\n",
        "def ApplyStyle(fsize):\n",
        "    \n",
        "    def _applystyle(_x):\n",
        "\n",
        "        #x[0]:image\n",
        "        #s[1]:style\n",
        "        \n",
        "        x=_x[0]\n",
        "        s=_x[1]\n",
        "        ch=x.shape[-1]\n",
        "\n",
        "        s=tf.reshape(s,[-1,2,1,1,ch])\n",
        "\n",
        "        s1=s[:,0,:,:,:]\n",
        "        s2=s[:,1,:,:,:]\n",
        "\n",
        "        s1=tf.tile(s1,[1,x.shape[1],x.shape[2],1])\n",
        "        s2=tf.tile(s2,[1,x.shape[1],x.shape[2],1])\n",
        "        x=x*s1+s2\n",
        "\n",
        "        return x\n",
        "\n",
        "    def _as(x):\n",
        "        #x[0]:img\n",
        "        #x[1]:w\n",
        "        \n",
        "        w=Dense(fsize*2,activation='relu')(x[1])\n",
        "        w=Dense(fsize*2,activation='relu')(w)\n",
        "        w=Dense(fsize*2)(w)\n",
        "        \n",
        "        return Lambda(_applystyle)([x[0],w])\n",
        "    return _as\n",
        "\n",
        "## convert to image for each size\n",
        "def OutputImage():\n",
        "    def _output(x):\n",
        "        x=Conv2D(filters=128,kernel_size=(1,1),padding='same',use_bias=False)(x)\n",
        "        x1=Conv2D(filters=3,kernel_size=(3,3),padding='same',use_bias=False,activation='sigmoid')(x)\n",
        "        return(x1)\n",
        "    return _output\n",
        "\n",
        "##\n",
        "def Expend():\n",
        "    def _expend(t):\n",
        "        t1=tf.reshape(t,[-1,t.shape[1],1,t.shape[2],t.shape[3]])\n",
        "        t2=tf.tile(t1,[1,1,2,1,1])\n",
        "        t3=tf.reshape(t2,[-1,t.shape[1]*2,t.shape[2],1,t.shape[3]])\n",
        "        t4=tf.tile(t3,[1,1,1,2,1])\n",
        "        t5=tf.reshape(t4,[-1,t.shape[1]*2,t.shape[2]*2,t.shape[3]])\n",
        "        return t5\n",
        "    return Lambda(_expend)\n",
        "        \n",
        "def Merge(i):\n",
        "    def _merge(x):\n",
        "        # x[0]: higher resolution image (bhwc)\n",
        "        # x[1]: lower resolution image (bhwc)\n",
        "\n",
        "        return x[0]*gate[i]+x[1]*(1-gate[i])\n",
        "    return Lambda(_merge)\n"
      ],
      "execution_count": 0,
      "outputs": []
    },
    {
      "metadata": {
        "id": "hDpJgnNri9tD",
        "colab_type": "code",
        "colab": {}
      },
      "cell_type": "code",
      "source": [
        "def g_base():\n",
        "\n",
        "    ##  z->w\n",
        "    z=Input((128,))    \n",
        "    d1=Dense(128,activation='relu')(z)\n",
        "    d2=Dense(128,activation='relu')(d1)\n",
        "    d3=Dense(128,activation='relu')(d2)\n",
        "    d3=Dense(128,activation='relu')(d3)\n",
        "    d3=Dense(128,activation='relu')(d3)\n",
        "    w=Dense(128)(d3)\n",
        "    \n",
        "    gz_w=Model(z,w)\n",
        "    \n",
        "    # 4*4\n",
        "    x0=Input((4,4,128))    \n",
        "    ws=[Input((128,)) for i in range(10)]\n",
        " \n",
        "    x=ApplyStyle(128)([x0,ws[0]])\n",
        "    x=Conv2D(filters=128,kernel_size=(3,3),padding='same',use_bias=False)(x)\n",
        "    x=featurenorm()(x)\n",
        "    x=ApplyStyle(128)([x,ws[1]])\n",
        "    \n",
        "    o4=OutputImage()(x)    \n",
        "    o4=Expend()(o4)\n",
        "    \n",
        "    # 8*8\n",
        "    x8=PixelShuffler(2)(x)\n",
        "    x=Conv2D(filters=128,kernel_size=(3,3), padding='same',use_bias=False)(x8)                                                           \n",
        "    x=featurenorm()(x)\n",
        "    x=ApplyStyle(128)([x,ws[2]])\n",
        "    x=Conv2D(filters=128,kernel_size=(3,3),padding='same',use_bias=False)(x)\n",
        "    x=featurenorm()(x)\n",
        "    x=ApplyStyle(128)([x,ws[3]])\n",
        "    \n",
        "    o8=OutputImage()(x)    \n",
        "    o8=Merge(0)([o8,o4])\n",
        "    o8=Expend()(o8)\n",
        "    \n",
        "    \n",
        "    #16*16\n",
        "    x16=PixelShuffler(2)(x)\n",
        "    x16=Concatenate()([x16,Expend()(x8)])\n",
        "    \n",
        "    x=Conv2D(filters=128,kernel_size=(3,3), padding='same',use_bias=False)(x16)                                                           \n",
        "    x=featurenorm()(x)\n",
        "    x=ApplyStyle(128)([x,ws[4]])\n",
        "    x=Conv2D(filters=128,kernel_size=(3,3),padding='same',use_bias=False)(x)\n",
        "    x=featurenorm()(x)\n",
        "    x=ApplyStyle(128)([x,ws[5]])\n",
        "    \n",
        "    o16=OutputImage()(x)\n",
        "    o16=Merge(1)([o16,o8])\n",
        "    o16=Expend()(o16)\n",
        "    \n",
        "    #32*32\n",
        "    x32=PixelShuffler(2)(x)\n",
        "    x32=Concatenate()([x32,Expend()(x16)])\n",
        "    \n",
        "    x=Conv2D(filters=128,kernel_size=(3,3), padding='same',use_bias=False)(x32)                                                           \n",
        "    x=featurenorm()(x)\n",
        "    x=ApplyStyle(128)([x,ws[6]])\n",
        "    x=Conv2D(filters=128,kernel_size=(3,3),padding='same',use_bias=False)(x)\n",
        "    x=featurenorm()(x)\n",
        "    x=ApplyStyle(128)([x,ws[7]])\n",
        "    \n",
        "    o32=OutputImage()(x)\n",
        "    o32=Merge(2)([o32,o16])\n",
        "    o32=Expend()(o32)\n",
        "    \n",
        "    \n",
        "    #64*64\n",
        "    x64=PixelShuffler(2)(x)\n",
        "    x64=Concatenate()([x64,Expend()(x32)])\n",
        "    x=Conv2D(filters=128,kernel_size=(3,3), padding='same',use_bias=False)(x64)                                                           \n",
        "    x=featurenorm()(x)\n",
        "    x=ApplyStyle(128)([x,ws[8]])\n",
        "    x=Conv2D(filters=128,kernel_size=(3,3),padding='same',use_bias=False)(x)\n",
        "    x=featurenorm()(x)\n",
        "    x=ApplyStyle(128)([x,ws[9]])\n",
        "    \n",
        "    o64=OutputImage()(x)\n",
        "    o64=Merge(3)([o64,o32])    \n",
        "    \n",
        "    ## model w->output image\n",
        "    gw_i=Model(ws+[x0],o64)\n",
        "    \n",
        "    ## model all\n",
        "    ww=gz_w(z)\n",
        "    o=gw_i([ww for i in range(10)]+[x0])\n",
        "    \n",
        "    gm=Model([z,x0],[o,ww])\n",
        "    \n",
        "    return gm,gw_i\n"
      ],
      "execution_count": 0,
      "outputs": []
    },
    {
      "metadata": {
        "id": "KZzsdwl5wNQD",
        "colab_type": "code",
        "outputId": "7d540eee-3288-43bd-ccd3-2e3394899e7f",
        "colab": {
          "base_uri": "https://localhost:8080/",
          "height": 4301
        }
      },
      "cell_type": "code",
      "source": [
        "gm,gw_i=g_base()\n",
        "\n",
        "gm.summary()\n",
        "gw_i.summary()"
      ],
      "execution_count": 13,
      "outputs": [
        {
          "output_type": "stream",
          "text": [
            "WARNING:tensorflow:From /usr/local/lib/python3.6/dist-packages/tensorflow/python/ops/resource_variable_ops.py:435: colocate_with (from tensorflow.python.framework.ops) is deprecated and will be removed in a future version.\n",
            "Instructions for updating:\n",
            "Colocations handled automatically by placer.\n",
            "__________________________________________________________________________________________________\n",
            "Layer (type)                    Output Shape         Param #     Connected to                     \n",
            "==================================================================================================\n",
            "input_1 (InputLayer)            (None, 128)          0                                            \n",
            "__________________________________________________________________________________________________\n",
            "model (Model)                   (None, 128)          99072       input_1[0][0]                    \n",
            "__________________________________________________________________________________________________\n",
            "input_2 (InputLayer)            (None, 4, 4, 128)    0                                            \n",
            "__________________________________________________________________________________________________\n",
            "model_1 (Model)                 (None, 64, 64, 3)    2851200     model[1][0]                      \n",
            "                                                                 model[1][0]                      \n",
            "                                                                 model[1][0]                      \n",
            "                                                                 model[1][0]                      \n",
            "                                                                 model[1][0]                      \n",
            "                                                                 model[1][0]                      \n",
            "                                                                 model[1][0]                      \n",
            "                                                                 model[1][0]                      \n",
            "                                                                 model[1][0]                      \n",
            "                                                                 model[1][0]                      \n",
            "                                                                 input_2[0][0]                    \n",
            "==================================================================================================\n",
            "Total params: 2,950,272\n",
            "Trainable params: 2,950,272\n",
            "Non-trainable params: 0\n",
            "__________________________________________________________________________________________________\n",
            "__________________________________________________________________________________________________\n",
            "Layer (type)                    Output Shape         Param #     Connected to                     \n",
            "==================================================================================================\n",
            "input_3 (InputLayer)            (None, 128)          0                                            \n",
            "__________________________________________________________________________________________________\n",
            "dense_6 (Dense)                 (None, 256)          33024       input_3[0][0]                    \n",
            "__________________________________________________________________________________________________\n",
            "dense_7 (Dense)                 (None, 256)          65792       dense_6[0][0]                    \n",
            "__________________________________________________________________________________________________\n",
            "input_2 (InputLayer)            (None, 4, 4, 128)    0                                            \n",
            "__________________________________________________________________________________________________\n",
            "dense_8 (Dense)                 (None, 256)          65792       dense_7[0][0]                    \n",
            "__________________________________________________________________________________________________\n",
            "input_4 (InputLayer)            (None, 128)          0                                            \n",
            "__________________________________________________________________________________________________\n",
            "lambda (Lambda)                 (None, 4, 4, 128)    0           input_2[0][0]                    \n",
            "                                                                 dense_8[0][0]                    \n",
            "__________________________________________________________________________________________________\n",
            "dense_9 (Dense)                 (None, 256)          33024       input_4[0][0]                    \n",
            "__________________________________________________________________________________________________\n",
            "conv2d (Conv2D)                 (None, 4, 4, 128)    147456      lambda[0][0]                     \n",
            "__________________________________________________________________________________________________\n",
            "dense_10 (Dense)                (None, 256)          65792       dense_9[0][0]                    \n",
            "__________________________________________________________________________________________________\n",
            "lambda_1 (Lambda)               (None, 4, 4, 128)    0           conv2d[0][0]                     \n",
            "__________________________________________________________________________________________________\n",
            "dense_11 (Dense)                (None, 256)          65792       dense_10[0][0]                   \n",
            "__________________________________________________________________________________________________\n",
            "lambda_2 (Lambda)               (None, 4, 4, 128)    0           lambda_1[0][0]                   \n",
            "                                                                 dense_11[0][0]                   \n",
            "__________________________________________________________________________________________________\n",
            "input_5 (InputLayer)            (None, 128)          0                                            \n",
            "__________________________________________________________________________________________________\n",
            "lambda_4 (Lambda)               (None, 8, 8, 32)     0           lambda_2[0][0]                   \n",
            "__________________________________________________________________________________________________\n",
            "dense_12 (Dense)                (None, 256)          33024       input_5[0][0]                    \n",
            "__________________________________________________________________________________________________\n",
            "conv2d_3 (Conv2D)               (None, 8, 8, 128)    36864       lambda_4[0][0]                   \n",
            "__________________________________________________________________________________________________\n",
            "dense_13 (Dense)                (None, 256)          65792       dense_12[0][0]                   \n",
            "__________________________________________________________________________________________________\n",
            "lambda_5 (Lambda)               (None, 8, 8, 128)    0           conv2d_3[0][0]                   \n",
            "__________________________________________________________________________________________________\n",
            "dense_14 (Dense)                (None, 256)          65792       dense_13[0][0]                   \n",
            "__________________________________________________________________________________________________\n",
            "input_6 (InputLayer)            (None, 128)          0                                            \n",
            "__________________________________________________________________________________________________\n",
            "lambda_6 (Lambda)               (None, 8, 8, 128)    0           lambda_5[0][0]                   \n",
            "                                                                 dense_14[0][0]                   \n",
            "__________________________________________________________________________________________________\n",
            "dense_15 (Dense)                (None, 256)          33024       input_6[0][0]                    \n",
            "__________________________________________________________________________________________________\n",
            "conv2d_4 (Conv2D)               (None, 8, 8, 128)    147456      lambda_6[0][0]                   \n",
            "__________________________________________________________________________________________________\n",
            "dense_16 (Dense)                (None, 256)          65792       dense_15[0][0]                   \n",
            "__________________________________________________________________________________________________\n",
            "lambda_7 (Lambda)               (None, 8, 8, 128)    0           conv2d_4[0][0]                   \n",
            "__________________________________________________________________________________________________\n",
            "dense_17 (Dense)                (None, 256)          65792       dense_16[0][0]                   \n",
            "__________________________________________________________________________________________________\n",
            "lambda_8 (Lambda)               (None, 8, 8, 128)    0           lambda_7[0][0]                   \n",
            "                                                                 dense_17[0][0]                   \n",
            "__________________________________________________________________________________________________\n",
            "lambda_11 (Lambda)              (None, 16, 16, 32)   0           lambda_8[0][0]                   \n",
            "__________________________________________________________________________________________________\n",
            "lambda_12 (Lambda)              (None, 16, 16, 32)   0           lambda_4[0][0]                   \n",
            "__________________________________________________________________________________________________\n",
            "input_7 (InputLayer)            (None, 128)          0                                            \n",
            "__________________________________________________________________________________________________\n",
            "concatenate (Concatenate)       (None, 16, 16, 64)   0           lambda_11[0][0]                  \n",
            "                                                                 lambda_12[0][0]                  \n",
            "__________________________________________________________________________________________________\n",
            "dense_18 (Dense)                (None, 256)          33024       input_7[0][0]                    \n",
            "__________________________________________________________________________________________________\n",
            "conv2d_7 (Conv2D)               (None, 16, 16, 128)  73728       concatenate[0][0]                \n",
            "__________________________________________________________________________________________________\n",
            "dense_19 (Dense)                (None, 256)          65792       dense_18[0][0]                   \n",
            "__________________________________________________________________________________________________\n",
            "lambda_13 (Lambda)              (None, 16, 16, 128)  0           conv2d_7[0][0]                   \n",
            "__________________________________________________________________________________________________\n",
            "dense_20 (Dense)                (None, 256)          65792       dense_19[0][0]                   \n",
            "__________________________________________________________________________________________________\n",
            "input_8 (InputLayer)            (None, 128)          0                                            \n",
            "__________________________________________________________________________________________________\n",
            "lambda_14 (Lambda)              (None, 16, 16, 128)  0           lambda_13[0][0]                  \n",
            "                                                                 dense_20[0][0]                   \n",
            "__________________________________________________________________________________________________\n",
            "dense_21 (Dense)                (None, 256)          33024       input_8[0][0]                    \n",
            "__________________________________________________________________________________________________\n",
            "conv2d_8 (Conv2D)               (None, 16, 16, 128)  147456      lambda_14[0][0]                  \n",
            "__________________________________________________________________________________________________\n",
            "dense_22 (Dense)                (None, 256)          65792       dense_21[0][0]                   \n",
            "__________________________________________________________________________________________________\n",
            "lambda_15 (Lambda)              (None, 16, 16, 128)  0           conv2d_8[0][0]                   \n",
            "__________________________________________________________________________________________________\n",
            "dense_23 (Dense)                (None, 256)          65792       dense_22[0][0]                   \n",
            "__________________________________________________________________________________________________\n",
            "lambda_16 (Lambda)              (None, 16, 16, 128)  0           lambda_15[0][0]                  \n",
            "                                                                 dense_23[0][0]                   \n",
            "__________________________________________________________________________________________________\n",
            "lambda_19 (Lambda)              (None, 32, 32, 32)   0           lambda_16[0][0]                  \n",
            "__________________________________________________________________________________________________\n",
            "lambda_20 (Lambda)              (None, 32, 32, 64)   0           concatenate[0][0]                \n",
            "__________________________________________________________________________________________________\n",
            "input_9 (InputLayer)            (None, 128)          0                                            \n",
            "__________________________________________________________________________________________________\n",
            "concatenate_1 (Concatenate)     (None, 32, 32, 96)   0           lambda_19[0][0]                  \n",
            "                                                                 lambda_20[0][0]                  \n",
            "__________________________________________________________________________________________________\n",
            "dense_24 (Dense)                (None, 256)          33024       input_9[0][0]                    \n",
            "__________________________________________________________________________________________________\n",
            "conv2d_11 (Conv2D)              (None, 32, 32, 128)  110592      concatenate_1[0][0]              \n",
            "__________________________________________________________________________________________________\n",
            "dense_25 (Dense)                (None, 256)          65792       dense_24[0][0]                   \n",
            "__________________________________________________________________________________________________\n",
            "lambda_21 (Lambda)              (None, 32, 32, 128)  0           conv2d_11[0][0]                  \n",
            "__________________________________________________________________________________________________\n",
            "dense_26 (Dense)                (None, 256)          65792       dense_25[0][0]                   \n",
            "__________________________________________________________________________________________________\n",
            "input_10 (InputLayer)           (None, 128)          0                                            \n",
            "__________________________________________________________________________________________________\n",
            "lambda_22 (Lambda)              (None, 32, 32, 128)  0           lambda_21[0][0]                  \n",
            "                                                                 dense_26[0][0]                   \n",
            "__________________________________________________________________________________________________\n",
            "dense_27 (Dense)                (None, 256)          33024       input_10[0][0]                   \n",
            "__________________________________________________________________________________________________\n",
            "conv2d_12 (Conv2D)              (None, 32, 32, 128)  147456      lambda_22[0][0]                  \n",
            "__________________________________________________________________________________________________\n",
            "dense_28 (Dense)                (None, 256)          65792       dense_27[0][0]                   \n",
            "__________________________________________________________________________________________________\n",
            "lambda_23 (Lambda)              (None, 32, 32, 128)  0           conv2d_12[0][0]                  \n",
            "__________________________________________________________________________________________________\n",
            "dense_29 (Dense)                (None, 256)          65792       dense_28[0][0]                   \n",
            "__________________________________________________________________________________________________\n",
            "lambda_24 (Lambda)              (None, 32, 32, 128)  0           lambda_23[0][0]                  \n",
            "                                                                 dense_29[0][0]                   \n",
            "__________________________________________________________________________________________________\n",
            "lambda_27 (Lambda)              (None, 64, 64, 32)   0           lambda_24[0][0]                  \n",
            "__________________________________________________________________________________________________\n",
            "lambda_28 (Lambda)              (None, 64, 64, 96)   0           concatenate_1[0][0]              \n",
            "__________________________________________________________________________________________________\n",
            "input_11 (InputLayer)           (None, 128)          0                                            \n",
            "__________________________________________________________________________________________________\n",
            "concatenate_2 (Concatenate)     (None, 64, 64, 128)  0           lambda_27[0][0]                  \n",
            "                                                                 lambda_28[0][0]                  \n",
            "__________________________________________________________________________________________________\n",
            "dense_30 (Dense)                (None, 256)          33024       input_11[0][0]                   \n",
            "__________________________________________________________________________________________________\n",
            "conv2d_1 (Conv2D)               (None, 4, 4, 128)    16384       lambda_2[0][0]                   \n",
            "__________________________________________________________________________________________________\n",
            "conv2d_15 (Conv2D)              (None, 64, 64, 128)  147456      concatenate_2[0][0]              \n",
            "__________________________________________________________________________________________________\n",
            "dense_31 (Dense)                (None, 256)          65792       dense_30[0][0]                   \n",
            "__________________________________________________________________________________________________\n",
            "conv2d_5 (Conv2D)               (None, 8, 8, 128)    16384       lambda_8[0][0]                   \n",
            "__________________________________________________________________________________________________\n",
            "conv2d_2 (Conv2D)               (None, 4, 4, 3)      3456        conv2d_1[0][0]                   \n",
            "__________________________________________________________________________________________________\n",
            "lambda_29 (Lambda)              (None, 64, 64, 128)  0           conv2d_15[0][0]                  \n",
            "__________________________________________________________________________________________________\n",
            "dense_32 (Dense)                (None, 256)          65792       dense_31[0][0]                   \n",
            "__________________________________________________________________________________________________\n",
            "input_12 (InputLayer)           (None, 128)          0                                            \n",
            "__________________________________________________________________________________________________\n",
            "conv2d_6 (Conv2D)               (None, 8, 8, 3)      3456        conv2d_5[0][0]                   \n",
            "__________________________________________________________________________________________________\n",
            "lambda_3 (Lambda)               (None, 8, 8, 3)      0           conv2d_2[0][0]                   \n",
            "__________________________________________________________________________________________________\n",
            "lambda_30 (Lambda)              (None, 64, 64, 128)  0           lambda_29[0][0]                  \n",
            "                                                                 dense_32[0][0]                   \n",
            "__________________________________________________________________________________________________\n",
            "dense_33 (Dense)                (None, 256)          33024       input_12[0][0]                   \n",
            "__________________________________________________________________________________________________\n",
            "conv2d_9 (Conv2D)               (None, 16, 16, 128)  16384       lambda_16[0][0]                  \n",
            "__________________________________________________________________________________________________\n",
            "lambda_9 (Lambda)               (None, 8, 8, 3)      0           conv2d_6[0][0]                   \n",
            "                                                                 lambda_3[0][0]                   \n",
            "__________________________________________________________________________________________________\n",
            "conv2d_16 (Conv2D)              (None, 64, 64, 128)  147456      lambda_30[0][0]                  \n",
            "__________________________________________________________________________________________________\n",
            "dense_34 (Dense)                (None, 256)          65792       dense_33[0][0]                   \n",
            "__________________________________________________________________________________________________\n",
            "conv2d_10 (Conv2D)              (None, 16, 16, 3)    3456        conv2d_9[0][0]                   \n",
            "__________________________________________________________________________________________________\n",
            "lambda_10 (Lambda)              (None, 16, 16, 3)    0           lambda_9[0][0]                   \n",
            "__________________________________________________________________________________________________\n",
            "lambda_31 (Lambda)              (None, 64, 64, 128)  0           conv2d_16[0][0]                  \n",
            "__________________________________________________________________________________________________\n",
            "dense_35 (Dense)                (None, 256)          65792       dense_34[0][0]                   \n",
            "__________________________________________________________________________________________________\n",
            "conv2d_13 (Conv2D)              (None, 32, 32, 128)  16384       lambda_24[0][0]                  \n",
            "__________________________________________________________________________________________________\n",
            "lambda_17 (Lambda)              (None, 16, 16, 3)    0           conv2d_10[0][0]                  \n",
            "                                                                 lambda_10[0][0]                  \n",
            "__________________________________________________________________________________________________\n",
            "lambda_32 (Lambda)              (None, 64, 64, 128)  0           lambda_31[0][0]                  \n",
            "                                                                 dense_35[0][0]                   \n",
            "__________________________________________________________________________________________________\n",
            "conv2d_14 (Conv2D)              (None, 32, 32, 3)    3456        conv2d_13[0][0]                  \n",
            "__________________________________________________________________________________________________\n",
            "lambda_18 (Lambda)              (None, 32, 32, 3)    0           lambda_17[0][0]                  \n",
            "__________________________________________________________________________________________________\n",
            "conv2d_17 (Conv2D)              (None, 64, 64, 128)  16384       lambda_32[0][0]                  \n",
            "__________________________________________________________________________________________________\n",
            "lambda_25 (Lambda)              (None, 32, 32, 3)    0           conv2d_14[0][0]                  \n",
            "                                                                 lambda_18[0][0]                  \n",
            "__________________________________________________________________________________________________\n",
            "conv2d_18 (Conv2D)              (None, 64, 64, 3)    3456        conv2d_17[0][0]                  \n",
            "__________________________________________________________________________________________________\n",
            "lambda_26 (Lambda)              (None, 64, 64, 3)    0           lambda_25[0][0]                  \n",
            "__________________________________________________________________________________________________\n",
            "lambda_33 (Lambda)              (None, 64, 64, 3)    0           conv2d_18[0][0]                  \n",
            "                                                                 lambda_26[0][0]                  \n",
            "==================================================================================================\n",
            "Total params: 2,851,200\n",
            "Trainable params: 2,851,200\n",
            "Non-trainable params: 0\n",
            "__________________________________________________________________________________________________\n"
          ],
          "name": "stdout"
        }
      ]
    },
    {
      "metadata": {
        "id": "M891uJ2yONmr",
        "colab_type": "code",
        "colab": {}
      },
      "cell_type": "code",
      "source": [
        "# discriminator\n",
        "\n",
        "def DownShuffler(block):\n",
        "    return Lambda(lambda x:tf.nn.space_to_depth(x,block))\n"
      ],
      "execution_count": 0,
      "outputs": []
    },
    {
      "metadata": {
        "id": "HlGZNG6y21L5",
        "colab_type": "code",
        "colab": {}
      },
      "cell_type": "code",
      "source": [
        "\n",
        "# discriminator\n",
        "\n",
        "def d_base():\n",
        "    \n",
        "\n",
        "    inputs=Input((64,64,3))\n",
        "\n",
        "    # 64*64    \n",
        "    x=Conv2D(filters=64,kernel_size=(3,3),padding='same',use_bias=False)(inputs)\n",
        "    x=LeakyReLU()(x)\n",
        "    x=Conv2D(filters=64,kernel_size=(3,3),padding='same',use_bias=False)(x)\n",
        "    x=LeakyReLU()(x)\n",
        "    x=Conv2D(filters=64,kernel_size=(3,3),padding='same',use_bias=False)(x)# 64*64*64\n",
        "       \n",
        "    # 32*32\n",
        "    x32=DownShuffler(2)(x)\n",
        "    x32=Conv2D(filters=64,kernel_size=(3,3),padding='same',use_bias=False)(x32)\n",
        "    x32=LeakyReLU()(x32)\n",
        "    x32=Conv2D(filters=64,kernel_size=(3,3),padding='same',use_bias=False)(x32)\n",
        "    x32=LeakyReLU()(x32)\n",
        "    x32=Conv2D(filters=64,kernel_size=(3,3),padding='same',use_bias=False)(x32)\n",
        "    \n",
        "    \n",
        "    i32=AveragePooling2D((2,2))(inputs)\n",
        "    y=Conv2D(filters=64,kernel_size=(3,3),padding='same',use_bias=False)(i32)\n",
        "    y=LeakyReLU()(y)\n",
        "    y=Conv2D(filters=64,kernel_size=(3,3),padding='same',use_bias=False)(y)\n",
        "    \n",
        "    m32=Merge(3)([x32,y])\n",
        "    \n",
        "    #16*16\n",
        "    \n",
        "    x=DownShuffler(2)(m32)\n",
        "    x=Conv2D(filters=64,kernel_size=(3,3),padding='same',use_bias=False)(x)\n",
        "    x=LeakyReLU()(x)\n",
        "    x=Conv2D(filters=64,kernel_size=(3,3),padding='same',use_bias=False)(x)\n",
        "    x=LeakyReLU()(x)\n",
        "    x=Conv2D(filters=64,kernel_size=(3,3),padding='same',use_bias=False)(x)\n",
        "    \n",
        "    i16=AveragePooling2D((2,2))(i32)\n",
        "    y=Conv2D(filters=64,kernel_size=(3,3),padding='same',use_bias=False)(i16)\n",
        "    y=LeakyReLU()(y)\n",
        "    y=Conv2D(filters=64,kernel_size=(3,3),padding='same',use_bias=False)(y)\n",
        "\n",
        "    m16=Merge(2)([x,y])\n",
        "    \n",
        "    #8*8\n",
        "    \n",
        "    x=DownShuffler(2)(m16)\n",
        "    x=Conv2D(filters=64,kernel_size=(3,3),padding='same',use_bias=False)(x)\n",
        "    x=LeakyReLU()(x)\n",
        "    x=Conv2D(filters=64,kernel_size=(3,3),padding='same',use_bias=False)(x)\n",
        "    x=LeakyReLU()(x)\n",
        "    x=Conv2D(filters=64,kernel_size=(3,3),padding='same',use_bias=False)(x)\n",
        "    \n",
        "    i8=AveragePooling2D((2,2))(i16)\n",
        "    y=Conv2D(filters=64,kernel_size=(3,3),padding='same',use_bias=False)(i8)\n",
        "    y=LeakyReLU()(y)\n",
        "    y=Conv2D(filters=64,kernel_size=(3,3),padding='same',use_bias=False)(y)\n",
        "\n",
        "    m8=Merge(1)([x,y])    \n",
        "    \n",
        "    #4*4\n",
        "    \n",
        "    x=DownShuffler(2)(m8)\n",
        "    x=Conv2D(filters=64,kernel_size=(3,3),padding='same',use_bias=False)(x)\n",
        "    x=LeakyReLU()(x)\n",
        "    x=Conv2D(filters=64,kernel_size=(3,3),padding='same',use_bias=False)(x)\n",
        "    x=LeakyReLU()(x)\n",
        "    x=Conv2D(filters=64,kernel_size=(3,3),padding='same',use_bias=False)(x)\n",
        "    \n",
        "    i4=AveragePooling2D((2,2))(i8)\n",
        "    y=Conv2D(filters=64,kernel_size=(3,3),padding='same',use_bias=False)(i4)\n",
        "    y=LeakyReLU()(y)\n",
        "    y=Conv2D(filters=64,kernel_size=(3,3),padding='same',use_bias=False)(y)\n",
        "\n",
        "    m4=Merge(0)([x,y])\n",
        "    \n",
        "    f1=Flatten()(m4)\n",
        "    \n",
        "    d1=Dense(128,activation='relu')(f1)\n",
        "    d2=Dense(128,activation='relu')(d1)\n",
        "    out=Dense(1)(d2)\n",
        "    \n",
        "    input_f=Input((4*4*64,))\n",
        "    dw=Dense(1024,activation='relu')(input_f)\n",
        "    \n",
        "    dw=Dense(1024,activation='relu')(dw)\n",
        "    dw=Dense(1024,activation='relu')(dw)\n",
        "    dw=Dense(128)(dw)\n",
        "    \n",
        "    dl=Model(inputs,out)\n",
        "    dw=Model(input_f,dw)\n",
        "    \n",
        "    dwo=dw(f1)\n",
        "    dm=Model(inputs,[out,f1,dwo])\n",
        "    return dl,dw,dm\n",
        "\n",
        "    \n",
        "    "
      ],
      "execution_count": 0,
      "outputs": []
    },
    {
      "metadata": {
        "id": "TlRBHvhW4N-A",
        "colab_type": "code",
        "colab": {}
      },
      "cell_type": "code",
      "source": [
        "dl,dw,dm=d_base()\n"
      ],
      "execution_count": 0,
      "outputs": []
    },
    {
      "metadata": {
        "id": "59Hfb3XdoUT-",
        "colab_type": "text"
      },
      "cell_type": "markdown",
      "source": [
        "Loss and Train\n",
        "---"
      ]
    },
    {
      "metadata": {
        "id": "mGhJAr3_iS4b",
        "colab_type": "code",
        "colab": {}
      },
      "cell_type": "code",
      "source": [
        "## tf placeholder input\n",
        "\n",
        "input_g=tf.placeholder(tf.float32,(None,128)) \n",
        "input_d=tf.placeholder(tf.float32,(None,64,64,3))\n",
        "input_b=tf.placeholder(tf.float32,(None,4,4,128))"
      ],
      "execution_count": 0,
      "outputs": []
    },
    {
      "metadata": {
        "id": "OCnKgsFsjKDp",
        "colab_type": "code",
        "colab": {}
      },
      "cell_type": "code",
      "source": [
        "## get g and d output\n",
        "\n",
        "g_img,g_w=gm([input_g,input_b])\n",
        "d_real,_,d_w_real=dm(input_d)\n",
        "d_fake,_,d_w_fake=dm(g_img)"
      ],
      "execution_count": 0,
      "outputs": []
    },
    {
      "metadata": {
        "id": "6rlVPW-Pi9kR",
        "colab_type": "code",
        "outputId": "799da71e-9574-4d7e-c818-fd6b8fcf7cea",
        "colab": {
          "base_uri": "https://localhost:8080/",
          "height": 141
        }
      },
      "cell_type": "code",
      "source": [
        "## loss d\n",
        "input_pena=0.5*input_d+0.5*g_img\n",
        "d_pena=dm(input_pena)[0]\n",
        "\n",
        "d_real=tf.reduce_mean(d_real)\n",
        "d_fake=tf.reduce_mean(d_fake)\n",
        "d_pena=tf.reduce_mean(d_pena)\n",
        "\n",
        "loss_d_1=-d_real+d_fake\n",
        "loss_d_pen=tf.gradients(d_pena,input_pena)[0]\n",
        "loss_d_pen=((tf.reduce_sum(loss_d_pen**2))**(1/2)-1)**2\n",
        "loss_info=tf.losses.mean_squared_error(g_w,d_w_fake)\n",
        "\n",
        "loss_d=loss_d_1+10*loss_d_pen+loss_info\n",
        "\n",
        "## d train\n",
        "opt_d=tf.train.RMSPropOptimizer(learning_rate=1e-4)\n",
        "train_d=opt_d.minimize(loss_d,var_list=dm.trainable_variables)"
      ],
      "execution_count": 19,
      "outputs": [
        {
          "output_type": "stream",
          "text": [
            "WARNING:tensorflow:From /usr/local/lib/python3.6/dist-packages/tensorflow/python/ops/losses/losses_impl.py:667: to_float (from tensorflow.python.ops.math_ops) is deprecated and will be removed in a future version.\n",
            "Instructions for updating:\n",
            "Use tf.cast instead.\n",
            "WARNING:tensorflow:From /usr/local/lib/python3.6/dist-packages/tensorflow/python/ops/math_ops.py:3066: to_int32 (from tensorflow.python.ops.math_ops) is deprecated and will be removed in a future version.\n",
            "Instructions for updating:\n",
            "Use tf.cast instead.\n"
          ],
          "name": "stdout"
        }
      ]
    },
    {
      "metadata": {
        "id": "cvFKNdrIU7_e",
        "colab_type": "code",
        "colab": {}
      },
      "cell_type": "code",
      "source": [
        "# loss g\n",
        "\n",
        "loss_g=-tf.reduce_mean(d_fake)\n",
        "\n",
        "# train g\n",
        "opt_g=tf.train.RMSPropOptimizer(learning_rate=1e-4)\n",
        "train_g=opt_g.minimize(loss_g,var_list=gm.trainable_variables)"
      ],
      "execution_count": 0,
      "outputs": []
    },
    {
      "metadata": {
        "id": "Ch9qcCtunCd1",
        "colab_type": "code",
        "colab": {}
      },
      "cell_type": "code",
      "source": [
        "sess=tf.keras.backend.get_session()\n",
        "sess.run(tf.global_variables_initializer())"
      ],
      "execution_count": 0,
      "outputs": []
    },
    {
      "metadata": {
        "id": "7oPvbapa_PsS",
        "colab_type": "code",
        "colab": {}
      },
      "cell_type": "code",
      "source": [
        "gaten=np.array([1.,1.,1.,1.])"
      ],
      "execution_count": 0,
      "outputs": []
    },
    {
      "metadata": {
        "id": "KN022jw0is6-",
        "colab_type": "code",
        "colab": {
          "base_uri": "https://localhost:8080/",
          "height": 55
        },
        "outputId": "f9878ed3-dac7-406d-a411-06f274554aa7"
      },
      "cell_type": "code",
      "source": [
        "''''load pretrained model\n",
        "dm.load_weights(filepath+'models/dm10100.h5')\n",
        "gm.load_weights(filepath+'models/gm10100.h5')\n",
        "'''"
      ],
      "execution_count": 25,
      "outputs": [
        {
          "output_type": "execute_result",
          "data": {
            "text/plain": [
              "\"'load pretrained model\\ndm.load_weights(filepath+'models/dm10100.h5')\\ngm.load_weights(filepath+'models/gm10100.h5')\\n\""
            ]
          },
          "metadata": {
            "tags": []
          },
          "execution_count": 25
        }
      ]
    },
    {
      "metadata": {
        "id": "xMbDwkVQmanp",
        "colab_type": "text"
      },
      "cell_type": "markdown",
      "source": [
        "Tensorboard\n",
        "---"
      ]
    },
    {
      "metadata": {
        "id": "DoNeFhismS0l",
        "colab_type": "code",
        "colab": {}
      },
      "cell_type": "code",
      "source": [
        "writer = tf.summary.FileWriter(\"./logs/\", sess.graph)\n",
        "writer_gd = tf.summary.FileWriter(file_path+\"logs/\", sess.graph)"
      ],
      "execution_count": 0,
      "outputs": []
    },
    {
      "metadata": {
        "id": "iuAIQps8AQs0",
        "colab_type": "code",
        "outputId": "0c0654f2-2b62-4e82-9bb0-59498571eead",
        "colab": {
          "base_uri": "https://localhost:8080/",
          "height": 35
        }
      },
      "cell_type": "code",
      "source": [
        "tf.summary.scalar('loss_g', loss_g)\n",
        "tf.summary.scalar('loss_d', loss_d)\n",
        "tf.summary.scalar('loss_d_',loss_d_1)\n",
        "tf.summary.scalar('loss_info', loss_info)\n",
        "tf.summary.scalar('loss_d_pen', loss_d_pen)\n",
        "tf.summary.scalar('d_real', d_real)\n",
        "tf.summary.scalar('d_fake', d_fake)\n"
      ],
      "execution_count": 25,
      "outputs": [
        {
          "output_type": "execute_result",
          "data": {
            "text/plain": [
              "<tf.Tensor 'd_fake:0' shape=() dtype=string>"
            ]
          },
          "metadata": {
            "tags": []
          },
          "execution_count": 25
        }
      ]
    },
    {
      "metadata": {
        "id": "6i4Ubu3oAnZE",
        "colab_type": "code",
        "colab": {}
      },
      "cell_type": "code",
      "source": [
        "merged = tf.summary.merge_all()"
      ],
      "execution_count": 0,
      "outputs": []
    },
    {
      "metadata": {
        "id": "hreD9fKHmp31",
        "colab_type": "text"
      },
      "cell_type": "markdown",
      "source": [
        "Training\n",
        "---"
      ]
    },
    {
      "metadata": {
        "id": "_ACoTtRb22dm",
        "colab_type": "code",
        "colab": {}
      },
      "cell_type": "code",
      "source": [
        "g_lenten=np.random.randn(100,128)\n",
        "np.save(file_path+'test.npy',g_lenten)\n",
        "g_lenten=np.load(file_path+'test.npy')"
      ],
      "execution_count": 0,
      "outputs": []
    },
    {
      "metadata": {
        "id": "zdjRLY52toaB",
        "colab_type": "code",
        "outputId": "1ec41047-71ec-4749-aeba-58ec7b3df611",
        "colab": {
          "base_uri": "https://localhost:8080/",
          "height": 280
        }
      },
      "cell_type": "code",
      "source": [
        "batch_size=64\n",
        "imgg=get_image_batch(batch_size)\n",
        "\n",
        "for epo in range(30000):\n",
        "    if epo%100==0:\n",
        "        \n",
        "        ig=sess.run(g_img,feed_dict={input_g:g_lenten,input_b:np.ones([100,4,4,128]),gate:gaten})\n",
        "        ig=ig.reshape(10,10,64,64,3).swapaxes(1,2).reshape(640,640,3)*255\n",
        "\n",
        "        file=file_path+'photos/update'+str(epo)+'.jpg'\n",
        "        imageio.imwrite(file, ig)  \n",
        "    if epo%100==0:\n",
        "        rs=sess.run(merged,feed_dict={input_g:np.random.randn(batch_size,128),input_b:np.ones([batch_size,4,4,128]),input_d:next(imgg),gate:gaten})\n",
        "        writer.add_summary(rs, epo)\n",
        "        writer_gd.add_summary(rs, epo)\n",
        "        \n",
        "    if epo%100==0:\n",
        "        dm.save(file_path+'models/dm'+str(epo)+'.h5')\n",
        "        gm.save(file_path+'models/gm'+str(epo)+'.h5')\n",
        "        \n",
        "    sys.stdout.write(\"\\rTraining times %i\" % epo)\n",
        "    sys.stdout.flush()\n",
        "    \n",
        "    for i in range(5):\n",
        "        sess.run(train_d,feed_dict={input_g:np.random.randn(batch_size,128),input_b:np.ones([batch_size,4,4,128]),input_d:next(imgg),gate:gaten})\n",
        "        \n",
        "    sess.run(train_g,feed_dict={input_g:np.random.randn(batch_size,128),input_b:np.ones([batch_size,4,4,128]),gate:gaten})\n",
        "    \n",
        "\n"
      ],
      "execution_count": 0,
      "outputs": [
        {
          "output_type": "stream",
          "text": [
            "WARNING:root:Lossy conversion from float32 to uint8. Range [84.92625427246094, 173.09828186035156]. Convert image to uint8 prior to saving to suppress this warning.\n"
          ],
          "name": "stderr"
        },
        {
          "output_type": "stream",
          "text": [
            "Training times 99"
          ],
          "name": "stdout"
        },
        {
          "output_type": "stream",
          "text": [
            "WARNING:root:Lossy conversion from float32 to uint8. Range [0.20881399512290955, 254.9967803955078]. Convert image to uint8 prior to saving to suppress this warning.\n"
          ],
          "name": "stderr"
        },
        {
          "output_type": "stream",
          "text": [
            "Training times 199"
          ],
          "name": "stdout"
        },
        {
          "output_type": "stream",
          "text": [
            "WARNING:root:Lossy conversion from float32 to uint8. Range [0.007409602403640747, 254.99993896484375]. Convert image to uint8 prior to saving to suppress this warning.\n"
          ],
          "name": "stderr"
        },
        {
          "output_type": "stream",
          "text": [
            "Training times 299"
          ],
          "name": "stdout"
        },
        {
          "output_type": "stream",
          "text": [
            "WARNING:root:Lossy conversion from float32 to uint8. Range [0.043279677629470825, 255.0]. Convert image to uint8 prior to saving to suppress this warning.\n"
          ],
          "name": "stderr"
        },
        {
          "output_type": "stream",
          "text": [
            "Training times 399"
          ],
          "name": "stdout"
        },
        {
          "output_type": "stream",
          "text": [
            "WARNING:root:Lossy conversion from float32 to uint8. Range [0.053333938121795654, 255.0]. Convert image to uint8 prior to saving to suppress this warning.\n"
          ],
          "name": "stderr"
        },
        {
          "output_type": "stream",
          "text": [
            "Training times 499"
          ],
          "name": "stdout"
        },
        {
          "output_type": "stream",
          "text": [
            "WARNING:root:Lossy conversion from float32 to uint8. Range [0.01388445496559143, 254.99986267089844]. Convert image to uint8 prior to saving to suppress this warning.\n"
          ],
          "name": "stderr"
        },
        {
          "output_type": "stream",
          "text": [
            "Training times 599"
          ],
          "name": "stdout"
        },
        {
          "output_type": "stream",
          "text": [
            "WARNING:root:Lossy conversion from float32 to uint8. Range [0.010935813188552856, 254.99974060058594]. Convert image to uint8 prior to saving to suppress this warning.\n"
          ],
          "name": "stderr"
        },
        {
          "output_type": "stream",
          "text": [
            "Training times 699"
          ],
          "name": "stdout"
        },
        {
          "output_type": "stream",
          "text": [
            "WARNING:root:Lossy conversion from float32 to uint8. Range [0.0059732794761657715, 254.99923706054688]. Convert image to uint8 prior to saving to suppress this warning.\n"
          ],
          "name": "stderr"
        },
        {
          "output_type": "stream",
          "text": [
            "Training times 799"
          ],
          "name": "stdout"
        },
        {
          "output_type": "stream",
          "text": [
            "WARNING:root:Lossy conversion from float32 to uint8. Range [6.079673767089844e-05, 255.0]. Convert image to uint8 prior to saving to suppress this warning.\n"
          ],
          "name": "stderr"
        },
        {
          "output_type": "stream",
          "text": [
            "Training times 899"
          ],
          "name": "stdout"
        },
        {
          "output_type": "stream",
          "text": [
            "WARNING:root:Lossy conversion from float32 to uint8. Range [0.004491358995437622, 254.99998474121094]. Convert image to uint8 prior to saving to suppress this warning.\n"
          ],
          "name": "stderr"
        },
        {
          "output_type": "stream",
          "text": [
            "Training times 999"
          ],
          "name": "stdout"
        },
        {
          "output_type": "stream",
          "text": [
            "WARNING:root:Lossy conversion from float32 to uint8. Range [0.0020518898963928223, 254.99996948242188]. Convert image to uint8 prior to saving to suppress this warning.\n"
          ],
          "name": "stderr"
        },
        {
          "output_type": "stream",
          "text": [
            "Training times 1099"
          ],
          "name": "stdout"
        },
        {
          "output_type": "stream",
          "text": [
            "WARNING:root:Lossy conversion from float32 to uint8. Range [9.119510650634766e-05, 255.0]. Convert image to uint8 prior to saving to suppress this warning.\n"
          ],
          "name": "stderr"
        },
        {
          "output_type": "stream",
          "text": [
            "Training times 1199"
          ],
          "name": "stdout"
        },
        {
          "output_type": "stream",
          "text": [
            "WARNING:root:Lossy conversion from float32 to uint8. Range [0.00468134880065918, 255.0]. Convert image to uint8 prior to saving to suppress this warning.\n"
          ],
          "name": "stderr"
        },
        {
          "output_type": "stream",
          "text": [
            "Training times 1276"
          ],
          "name": "stdout"
        }
      ]
    },
    {
      "metadata": {
        "id": "wSMjvAeaae6h",
        "colab_type": "text"
      },
      "cell_type": "markdown",
      "source": [
        "Application\n",
        "==="
      ]
    },
    {
      "metadata": {
        "id": "Pmz0HiqRm1Oo",
        "colab_type": "code",
        "colab": {}
      },
      "cell_type": "code",
      "source": [
        "recon=gws_o([d_w_real for i in range(10)]+[input_b])"
      ],
      "execution_count": 0,
      "outputs": []
    },
    {
      "metadata": {
        "id": "CqZ-Xx45BJbY",
        "colab_type": "code",
        "colab": {}
      },
      "cell_type": "code",
      "source": [
        "input_d2=tf.placeholder(tf.float32,(None,64,64,3))\n",
        "_,_,d_w_real2=dm(input_d2)\n",
        "\n",
        "recon2=gws_o([d_w_real for i in range(6)]+[d_w_real2 for i in range(4)]+[input_b])"
      ],
      "execution_count": 0,
      "outputs": []
    },
    {
      "metadata": {
        "id": "Y1ZU2DfroNLl",
        "colab_type": "code",
        "colab": {}
      },
      "cell_type": "code",
      "source": [
        "p=sess.run(recon2,feed_dict={input_b:np.ones([400,4,4,128]),input_d:imgs[0:400]/255.,input_d2:imgs[1:401]/255.,gate:gaten})"
      ],
      "execution_count": 0,
      "outputs": []
    },
    {
      "metadata": {
        "id": "ZeNNP9REfkfU",
        "colab_type": "code",
        "colab": {}
      },
      "cell_type": "code",
      "source": [
        "p0=sess.run(recon,feed_dict={input_b:np.ones([400,4,4,128]),input_d:imgs[0:400]/255.,gate:gaten})"
      ],
      "execution_count": 0,
      "outputs": []
    },
    {
      "metadata": {
        "id": "pIKmeSmJE_VQ",
        "colab_type": "code",
        "colab": {}
      },
      "cell_type": "code",
      "source": [
        "pm=sess.run(recon2,feed_dict={input_b:np.ones([400,4,4,128]),input_d:imgs[0:400]/255.,input_d2:imgs[1:401]/255.,gate:gaten})"
      ],
      "execution_count": 0,
      "outputs": []
    },
    {
      "metadata": {
        "id": "Zh7RNiIbMwHm",
        "colab_type": "code",
        "outputId": "c89be402-609c-4cd4-ece2-67379dd4b4a7",
        "colab": {
          "base_uri": "https://localhost:8080/",
          "height": 364
        }
      },
      "cell_type": "code",
      "source": [
        "i=np.random.randint(399)\n",
        "ax=plt.subplot(2,3,1)\n",
        "plt.imshow(imgs[i])\n",
        "ax=plt.subplot(2,3,2)\n",
        "plt.imshow(imgs[i+1])\n",
        "ax=plt.subplot(2,3,3)\n",
        "plt.imshow(pm[i])\n",
        "ax=plt.subplot(2,3,4)\n",
        "plt.imshow(p0[i])\n",
        "ax=plt.subplot(2,3,5)\n",
        "plt.imshow(p0[i+1])"
      ],
      "execution_count": 0,
      "outputs": [
        {
          "output_type": "execute_result",
          "data": {
            "text/plain": [
              "<matplotlib.image.AxesImage at 0x7f050cb8edd8>"
            ]
          },
          "metadata": {
            "tags": []
          },
          "execution_count": 128
        },
        {
          "output_type": "display_data",
          "data": {
            "image/png": "[encoded data removed]",
            "text/plain": [
              "<Figure size 576x396 with 5 Axes>"
            ]
          },
          "metadata": {
            "tags": []
          }
        }
      ]
    },
    {
      "metadata": {
        "id": "5tFJAwiTBr92",
        "colab_type": "code",
        "colab": {}
      },
      "cell_type": "code",
      "source": [
        "ig=sess.run(g_img,feed_dict={input_g:g_lenten,input_b:np.ones([100,4,4,128]),gate:gaten})"
      ],
      "execution_count": 0,
      "outputs": []
    },
    {
      "metadata": {
        "id": "mjFV2vM4BwqR",
        "colab_type": "code",
        "outputId": "cea2d939-cf9b-4059-a454-f9ec52179270",
        "colab": {
          "base_uri": "https://localhost:8080/",
          "height": 367
        }
      },
      "cell_type": "code",
      "source": [
        "i=np.random.randint(99)\n",
        "plt.imshow(ig[i])"
      ],
      "execution_count": 0,
      "outputs": [
        {
          "output_type": "execute_result",
          "data": {
            "text/plain": [
              "<matplotlib.image.AxesImage at 0x7f050bc39a90>"
            ]
          },
          "metadata": {
            "tags": []
          },
          "execution_count": 176
        },
        {
          "output_type": "display_data",
          "data": {
            "image/png": "[encoded data removed]",
            "text/plain": [
              "<Figure size 576x396 with 1 Axes>"
            ]
          },
          "metadata": {
            "tags": []
          }
        }
      ]
    },
    {
      "metadata": {
        "id": "hw7_BplV7cCM",
        "colab_type": "code",
        "colab": {}
      },
      "cell_type": "code",
      "source": [
        "p=sess.run(output_g,feed_dict={input_g:g_lenten,input_b:np.ones([100,4,4,128]),gate:gaten})"
      ],
      "execution_count": 0,
      "outputs": []
    },
    {
      "metadata": {
        "id": "EulB_kRKBcC-",
        "colab_type": "code",
        "colab": {}
      },
      "cell_type": "code",
      "source": [
        "igs=get_image_batch(50)"
      ],
      "execution_count": 0,
      "outputs": []
    }
  ]
}